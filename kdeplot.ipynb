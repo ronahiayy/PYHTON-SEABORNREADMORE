{
 "cells": [
  {
   "cell_type": "code",
   "execution_count": 4,
   "metadata": {},
   "outputs": [
    {
     "data": {
      "text/html": [
       "<div>\n",
       "<style scoped>\n",
       "    .dataframe tbody tr th:only-of-type {\n",
       "        vertical-align: middle;\n",
       "    }\n",
       "\n",
       "    .dataframe tbody tr th {\n",
       "        vertical-align: top;\n",
       "    }\n",
       "\n",
       "    .dataframe thead th {\n",
       "        text-align: right;\n",
       "    }\n",
       "</style>\n",
       "<table border=\"1\" class=\"dataframe\">\n",
       "  <thead>\n",
       "    <tr style=\"text-align: right;\">\n",
       "      <th></th>\n",
       "      <th>Segment</th>\n",
       "      <th>Country</th>\n",
       "      <th>Product</th>\n",
       "      <th>Discount Band</th>\n",
       "      <th>Manufacturing Price</th>\n",
       "      <th>Sale Price</th>\n",
       "      <th>Gross Sales</th>\n",
       "      <th>Discounts</th>\n",
       "      <th>Sales</th>\n",
       "      <th>COGS</th>\n",
       "      <th>Profit</th>\n",
       "      <th>Date</th>\n",
       "      <th>Month Number</th>\n",
       "      <th>Month Name</th>\n",
       "      <th>Year</th>\n",
       "    </tr>\n",
       "  </thead>\n",
       "  <tbody>\n",
       "    <tr>\n",
       "      <th>0</th>\n",
       "      <td>Government</td>\n",
       "      <td>United States of America</td>\n",
       "      <td>Paseo</td>\n",
       "      <td>Low</td>\n",
       "      <td>$10.00</td>\n",
       "      <td>$350.00</td>\n",
       "      <td>$1,207,500.00</td>\n",
       "      <td>$48,300.00</td>\n",
       "      <td>$1,159,200.00</td>\n",
       "      <td>$897,000.00</td>\n",
       "      <td>$262,200.00</td>\n",
       "      <td>7/1/2014</td>\n",
       "      <td>7</td>\n",
       "      <td>July</td>\n",
       "      <td>2014</td>\n",
       "    </tr>\n",
       "    <tr>\n",
       "      <th>1</th>\n",
       "      <td>Government</td>\n",
       "      <td>France</td>\n",
       "      <td>Amarilla</td>\n",
       "      <td>None</td>\n",
       "      <td>$260.00</td>\n",
       "      <td>$350.00</td>\n",
       "      <td>$962,500.00</td>\n",
       "      <td>$0.00</td>\n",
       "      <td>$962,500.00</td>\n",
       "      <td>$715,000.00</td>\n",
       "      <td>$247,500.00</td>\n",
       "      <td>2/1/2014</td>\n",
       "      <td>2</td>\n",
       "      <td>February</td>\n",
       "      <td>2014</td>\n",
       "    </tr>\n",
       "    <tr>\n",
       "      <th>2</th>\n",
       "      <td>Government</td>\n",
       "      <td>Germany</td>\n",
       "      <td>Velo</td>\n",
       "      <td>Low</td>\n",
       "      <td>$120.00</td>\n",
       "      <td>$350.00</td>\n",
       "      <td>$1,038,100.00</td>\n",
       "      <td>$20,762.00</td>\n",
       "      <td>$1,017,338.00</td>\n",
       "      <td>$771,160.00</td>\n",
       "      <td>$246,178.00</td>\n",
       "      <td>10/1/2013</td>\n",
       "      <td>10</td>\n",
       "      <td>October</td>\n",
       "      <td>2013</td>\n",
       "    </tr>\n",
       "    <tr>\n",
       "      <th>3</th>\n",
       "      <td>Government</td>\n",
       "      <td>Germany</td>\n",
       "      <td>Amarilla</td>\n",
       "      <td>Low</td>\n",
       "      <td>$260.00</td>\n",
       "      <td>$350.00</td>\n",
       "      <td>$1,038,100.00</td>\n",
       "      <td>$20,762.00</td>\n",
       "      <td>$1,017,338.00</td>\n",
       "      <td>$771,160.00</td>\n",
       "      <td>$246,178.00</td>\n",
       "      <td>10/1/2013</td>\n",
       "      <td>10</td>\n",
       "      <td>October</td>\n",
       "      <td>2013</td>\n",
       "    </tr>\n",
       "    <tr>\n",
       "      <th>4</th>\n",
       "      <td>Government</td>\n",
       "      <td>Germany</td>\n",
       "      <td>Velo</td>\n",
       "      <td>Low</td>\n",
       "      <td>$120.00</td>\n",
       "      <td>$350.00</td>\n",
       "      <td>$1,006,950.00</td>\n",
       "      <td>$20,139.00</td>\n",
       "      <td>$986,811.00</td>\n",
       "      <td>$748,020.00</td>\n",
       "      <td>$238,791.00</td>\n",
       "      <td>10/1/2014</td>\n",
       "      <td>10</td>\n",
       "      <td>October</td>\n",
       "      <td>2014</td>\n",
       "    </tr>\n",
       "    <tr>\n",
       "      <th>...</th>\n",
       "      <td>...</td>\n",
       "      <td>...</td>\n",
       "      <td>...</td>\n",
       "      <td>...</td>\n",
       "      <td>...</td>\n",
       "      <td>...</td>\n",
       "      <td>...</td>\n",
       "      <td>...</td>\n",
       "      <td>...</td>\n",
       "      <td>...</td>\n",
       "      <td>...</td>\n",
       "      <td>...</td>\n",
       "      <td>...</td>\n",
       "      <td>...</td>\n",
       "      <td>...</td>\n",
       "    </tr>\n",
       "    <tr>\n",
       "      <th>695</th>\n",
       "      <td>Enterprise</td>\n",
       "      <td>United States of America</td>\n",
       "      <td>Velo</td>\n",
       "      <td>High</td>\n",
       "      <td>$120.00</td>\n",
       "      <td>$125.00</td>\n",
       "      <td>$304,750.00</td>\n",
       "      <td>$45,712.50</td>\n",
       "      <td>$259,037.50</td>\n",
       "      <td>$292,560.00</td>\n",
       "      <td>-$33,522.50</td>\n",
       "      <td>12/1/2013</td>\n",
       "      <td>12</td>\n",
       "      <td>December</td>\n",
       "      <td>2013</td>\n",
       "    </tr>\n",
       "    <tr>\n",
       "      <th>696</th>\n",
       "      <td>Enterprise</td>\n",
       "      <td>Mexico</td>\n",
       "      <td>Carretera</td>\n",
       "      <td>High</td>\n",
       "      <td>$3.00</td>\n",
       "      <td>$125.00</td>\n",
       "      <td>$352,625.00</td>\n",
       "      <td>$49,367.50</td>\n",
       "      <td>$303,257.50</td>\n",
       "      <td>$338,520.00</td>\n",
       "      <td>-$35,262.50</td>\n",
       "      <td>12/1/2013</td>\n",
       "      <td>12</td>\n",
       "      <td>December</td>\n",
       "      <td>2013</td>\n",
       "    </tr>\n",
       "    <tr>\n",
       "      <th>697</th>\n",
       "      <td>Enterprise</td>\n",
       "      <td>United States of America</td>\n",
       "      <td>Amarilla</td>\n",
       "      <td>High</td>\n",
       "      <td>$260.00</td>\n",
       "      <td>$125.00</td>\n",
       "      <td>$355,500.00</td>\n",
       "      <td>$49,770.00</td>\n",
       "      <td>$305,730.00</td>\n",
       "      <td>$341,280.00</td>\n",
       "      <td>-$35,550.00</td>\n",
       "      <td>5/1/2014</td>\n",
       "      <td>5</td>\n",
       "      <td>May</td>\n",
       "      <td>2014</td>\n",
       "    </tr>\n",
       "    <tr>\n",
       "      <th>698</th>\n",
       "      <td>Enterprise</td>\n",
       "      <td>Germany</td>\n",
       "      <td>Carretera</td>\n",
       "      <td>High</td>\n",
       "      <td>$3.00</td>\n",
       "      <td>$125.00</td>\n",
       "      <td>$345,875.00</td>\n",
       "      <td>$51,881.25</td>\n",
       "      <td>$293,993.75</td>\n",
       "      <td>$332,040.00</td>\n",
       "      <td>-$38,046.25</td>\n",
       "      <td>8/1/2014</td>\n",
       "      <td>8</td>\n",
       "      <td>August</td>\n",
       "      <td>2014</td>\n",
       "    </tr>\n",
       "    <tr>\n",
       "      <th>699</th>\n",
       "      <td>Enterprise</td>\n",
       "      <td>Canada</td>\n",
       "      <td>VTT</td>\n",
       "      <td>High</td>\n",
       "      <td>$250.00</td>\n",
       "      <td>$125.00</td>\n",
       "      <td>$369,250.00</td>\n",
       "      <td>$55,387.50</td>\n",
       "      <td>$313,862.50</td>\n",
       "      <td>$354,480.00</td>\n",
       "      <td>-$40,617.50</td>\n",
       "      <td>11/1/2013</td>\n",
       "      <td>11</td>\n",
       "      <td>November</td>\n",
       "      <td>2013</td>\n",
       "    </tr>\n",
       "  </tbody>\n",
       "</table>\n",
       "<p>700 rows × 15 columns</p>\n",
       "</div>"
      ],
      "text/plain": [
       "        Segment                   Country     Product   Discount Band   \\\n",
       "0    Government  United States of America       Paseo             Low    \n",
       "1    Government                    France    Amarilla            None    \n",
       "2    Government                   Germany        Velo             Low    \n",
       "3    Government                   Germany    Amarilla             Low    \n",
       "4    Government                   Germany        Velo             Low    \n",
       "..          ...                       ...          ...             ...   \n",
       "695  Enterprise  United States of America        Velo            High    \n",
       "696  Enterprise                    Mexico   Carretera            High    \n",
       "697  Enterprise  United States of America    Amarilla            High    \n",
       "698  Enterprise                   Germany   Carretera            High    \n",
       "699  Enterprise                    Canada         VTT            High    \n",
       "\n",
       "    Manufacturing Price Sale Price    Gross Sales   Discounts          Sales  \\\n",
       "0                $10.00    $350.00  $1,207,500.00  $48,300.00  $1,159,200.00   \n",
       "1               $260.00    $350.00    $962,500.00       $0.00    $962,500.00   \n",
       "2               $120.00    $350.00  $1,038,100.00  $20,762.00  $1,017,338.00   \n",
       "3               $260.00    $350.00  $1,038,100.00  $20,762.00  $1,017,338.00   \n",
       "4               $120.00    $350.00  $1,006,950.00  $20,139.00    $986,811.00   \n",
       "..                  ...        ...            ...         ...            ...   \n",
       "695             $120.00    $125.00    $304,750.00  $45,712.50    $259,037.50   \n",
       "696               $3.00    $125.00    $352,625.00  $49,367.50    $303,257.50   \n",
       "697             $260.00    $125.00    $355,500.00  $49,770.00    $305,730.00   \n",
       "698               $3.00    $125.00    $345,875.00  $51,881.25    $293,993.75   \n",
       "699             $250.00    $125.00    $369,250.00  $55,387.50    $313,862.50   \n",
       "\n",
       "            COGS       Profit       Date  Month Number  Month Name   Year  \n",
       "0    $897,000.00  $262,200.00   7/1/2014             7        July   2014  \n",
       "1    $715,000.00  $247,500.00   2/1/2014             2    February   2014  \n",
       "2    $771,160.00  $246,178.00  10/1/2013            10     October   2013  \n",
       "3    $771,160.00  $246,178.00  10/1/2013            10     October   2013  \n",
       "4    $748,020.00  $238,791.00  10/1/2014            10     October   2014  \n",
       "..           ...          ...        ...           ...          ...   ...  \n",
       "695  $292,560.00  -$33,522.50  12/1/2013            12    December   2013  \n",
       "696  $338,520.00  -$35,262.50  12/1/2013            12    December   2013  \n",
       "697  $341,280.00  -$35,550.00   5/1/2014             5         May   2014  \n",
       "698  $332,040.00  -$38,046.25   8/1/2014             8      August   2014  \n",
       "699  $354,480.00  -$40,617.50  11/1/2013            11    November   2013  \n",
       "\n",
       "[700 rows x 15 columns]"
      ]
     },
     "execution_count": 4,
     "metadata": {},
     "output_type": "execute_result"
    }
   ],
   "source": [
    "import numpy as np\n",
    "import pandas as pd\n",
    "import matplotlib as mpl\n",
    "import seaborn as sns \n",
    "import warnings\n",
    "%matplotlib inline \n",
    "\n",
    "r=pd.read_csv(\"Financial Sample.csv\")\n",
    "#pop ile  dosyadan istenilen sütun çıkarılabilir.\n",
    "r.pop(\"Units Sold\")\n",
    "r\n"
   ]
  },
  {
   "cell_type": "code",
   "execution_count": 5,
   "metadata": {},
   "outputs": [
    {
     "data": {
      "text/plain": [
       "<matplotlib.axes._subplots.AxesSubplot at 0x2385e32e808>"
      ]
     },
     "execution_count": 5,
     "metadata": {},
     "output_type": "execute_result"
    },
    {
     "data": {
      "image/png": "[encoded data removed]",
      "text/plain": [
       "<Figure size 432x288 with 1 Axes>"
      ]
     },
     "metadata": {
      "needs_background": "light"
     },
     "output_type": "display_data"
    }
   ],
   "source": [
    "\n",
    "\n",
    "sns.kdeplot(r[\"Year\"])"
   ]
  },
  {
   "cell_type": "code",
   "execution_count": 6,
   "metadata": {},
   "outputs": [
    {
     "data": {
      "text/plain": [
       "<matplotlib.axes._subplots.AxesSubplot at 0x2385c7bfa48>"
      ]
     },
     "execution_count": 6,
     "metadata": {},
     "output_type": "execute_result"
    },
    {
     "data": {
      "image/png": "[encoded data removed]",
      "text/plain": [
       "<Figure size 432x288 with 1 Axes>"
      ]
     },
     "metadata": {
      "needs_background": "light"
     },
     "output_type": "display_data"
    }
   ],
   "source": [
    "sns.kdeplot(r[\"Month Number\"])"
   ]
  },
  {
   "cell_type": "code",
   "execution_count": 13,
   "metadata": {},
   "outputs": [
    {
     "data": {
      "text/plain": [
       "<matplotlib.axes._subplots.AxesSubplot at 0x2385e664d08>"
      ]
     },
     "execution_count": 13,
     "metadata": {},
     "output_type": "execute_result"
    },
    {
     "data": {
      "image/png": "[encoded data removed]",
      "text/plain": [
       "<Figure size 432x288 with 1 Axes>"
      ]
     },
     "metadata": {
      "needs_background": "light"
     },
     "output_type": "display_data"
    }
   ],
   "source": [
    "#İki farklı sütunun karşılatırılması .\n",
    "\n",
    "sns.kdeplot(r[\"Year\"],r[\"Month Number\"],shade=True,cmap=\"Purples\")"
   ]
  },
  {
   "cell_type": "code",
   "execution_count": 15,
   "metadata": {},
   "outputs": [
    {
     "data": {
      "text/plain": [
       "<matplotlib.axes._subplots.AxesSubplot at 0x2385e9367c8>"
      ]
     },
     "execution_count": 15,
     "metadata": {},
     "output_type": "execute_result"
    },
    {
     "data": {
      "image/png": "[encoded data removed]",
      "text/plain": [
       "<Figure size 432x288 with 1 Axes>"
      ]
     },
     "metadata": {
      "needs_background": "light"
     },
     "output_type": "display_data"
    }
   ],
   "source": [
    "sns.kdeplot(r[\"Year\"],r[\"Month Number\"],shade=True,cmap=\"Greens\")"
   ]
  },
  {
   "cell_type": "code",
   "execution_count": null,
   "metadata": {},
   "outputs": [],
   "source": []
  }
 ],
 "metadata": {
  "kernelspec": {
   "display_name": "Python 3",
   "language": "python",
   "name": "python3"
  },
  "language_info": {
   "codemirror_mode": {
    "name": "ipython",
    "version": 3
   },
   "file_extension": ".py",
   "mimetype": "text/x-python",
   "name": "python",
   "nbconvert_exporter": "python",
   "pygments_lexer": "ipython3",
   "version": "3.7.6"
  }
 },
 "nbformat": 4,
 "nbformat_minor": 4
}
